{
 "cells": [
  {
   "cell_type": "code",
   "execution_count": 5,
   "id": "ca846131-ab99-4967-aed2-4a9172f79e84",
   "metadata": {},
   "outputs": [],
   "source": [
    "import pandas as pd\n",
    "\n",
    "from courses.models import Course, Registration\n",
    "from users.models import User\n",
    "\n",
    "df = pd.read_excel(\"course info.xlsx\", sheet_name=\"تجربه‌گرها\")\n",
    "\n",
    "# leadership = CourseType.objects.get_or_create(\n",
    "#     name=\"leadership\",\n",
    "#     name_fa=\"پیش‌وایی\",\n",
    "#     category=1\n",
    "# )[0]\n",
    "# relationship = CourseType.objects.get_or_create(\n",
    "#     name=\"relationship\",\n",
    "#     name_fa=\"رابطه\",\n",
    "#     category=1\n",
    "# )[0]\n",
    "# pileh = CourseType.objects.get_or_create(\n",
    "#     name=\"pileh\",\n",
    "#     name_fa=\"پیل\",\n",
    "#     category=1\n",
    "# )[0]\n",
    "# heart_of_matter = CourseType.objects.get_or_create(\n",
    "#     name=\"heart of matter\",\n",
    "#     name_fa=\"جان کلام\",\n",
    "#     category=2\n",
    "# )[0]\n",
    "# accomplishment = CourseType.objects.get_or_create(\n",
    "#     name=\"accomplishment\",\n",
    "#     name_fa=\"دستاورد\",\n",
    "#     category=2\n",
    "# )[0]\n",
    "# confront = CourseType.objects.get_or_create(\n",
    "#     name=\"confront\",\n",
    "#     name_fa=\"مواجهه\",\n",
    "#     category=2\n",
    "# )[0]\n",
    "# transforming_year = CourseType.objects.get_or_create(\n",
    "#     name=\"transforming year\",\n",
    "#     name_fa=\"تحویل سال\",\n",
    "#     category=2\n",
    "# )[0]\n",
    "\n",
    "# course_to_create = []\n",
    "# course_to_create = course_to_create + [(leadership, i+1) for i in range(20)]\n",
    "# course_to_create = course_to_create + [(relationship, i+1) for i in range(5)]\n",
    "# course_to_create = course_to_create + [(pileh, i+1) for i in range(6)]\n",
    "# course_to_create = course_to_create + [(heart_of_matter, i+1) for i in range(3)]\n",
    "# course_to_create = course_to_create + [(accomplishment, i+1) for i in range(1)]\n",
    "# course_to_create = course_to_create + [(confront, i+1) for i in range(3)]\n",
    "# course_to_create = course_to_create + [(transforming_year, i+1) for i in range(3)]\n",
    "# done_courses = Course.objects.bulk_create(\n",
    "#     Course(\n",
    "#         course_type=course_type,\n",
    "#         number = i,\n",
    "#         course_name=f\"{course_type} {i + 1}\"\n",
    "#     ) for course_type, i in course_to_create\n",
    "# )"
   ]
  },
  {
   "cell_type": "code",
   "execution_count": null,
   "id": "ab6ae2eb",
   "metadata": {},
   "outputs": [
    {
     "name": "stderr",
     "output_type": "stream",
     "text": [
      "  6%|███▊                                                        | 130/2048 [00:00<00:03, 637.96it/s]"
     ]
    },
    {
     "name": "stdout",
     "output_type": "stream",
     "text": [
      "inconsistent user data 14 +989192386071 آزاده اعتصامی صدری آزاده اعتصامی\n",
      "inconsistent user data 69 +989122822695 علی اکبر سلطانلو علی اکبر سلطان لو\n",
      "inconsistent user data 87 +989224830197 سایه زارعی تودشکی سایه زارعی\n",
      "inconsistent user data 93 +989124493681 مسعود ملک محمدی بیدهندی مسعود ملک محمدی\n",
      "inconsistent user data 143 +989126798943 امین عارف پوراکبری امین عارف\n"
     ]
    },
    {
     "name": "stderr",
     "output_type": "stream",
     "text": [
      " 13%|███████▌                                                    | 258/2048 [00:00<00:03, 548.45it/s]"
     ]
    },
    {
     "name": "stdout",
     "output_type": "stream",
     "text": [
      "inconsistent user data 170 +989394310605 مارال احمدی آرزو نصیری\n",
      "inconsistent user data 183 +989122822695 علی اکبر سلطانلو علی اکبر سلطان لو\n",
      "inconsistent user data 184 +989126798943 امین عارف پوراکبری امین عارف\n",
      "inconsistent user data 190 +989192386071 آزاده اعتصامی صدری آزاده اعتصامی\n",
      "inconsistent user data 200 +989122091903 محمد علی صابری محمدعلی صابری\n",
      "inconsistent user data 212 +989124493681 مسعود ملک محمدی بیدهندی مسعود ملک محمدی\n",
      "inconsistent user data 214 +989203109686 محمدعلى طائبى محمدعلی طائبی\n",
      "inconsistent user data 239 +989123441962 امیرعلی حسینخان امیرعلی حسین‌خان\n",
      "inconsistent user data 244 +989390372267 آرش آل بیگی غلامی آرش آل‌بیگی\n",
      "inconsistent user data 250 +989366205771 سعید عالم ورزنه اصفهانی سعید عالم\n"
     ]
    },
    {
     "name": "stderr",
     "output_type": "stream",
     "text": [
      " 19%|███████████▏                                                | 380/2048 [00:00<00:03, 550.90it/s]"
     ]
    },
    {
     "name": "stdout",
     "output_type": "stream",
     "text": [
      "inconsistent user data 269 +989194203646 بهنوش حسینی سیده زینب حسینی\n",
      "inconsistent user data 272 +989224830197 سایه زارعی تودشکی سایه زارعی\n",
      "inconsistent user data 283 +989124386498 یاسمن بقینی یاسمن یقینی\n",
      "inconsistent user data 339 +989128300124 سید هانی امام جمعه هانی امام جمعه\n",
      "inconsistent user data 379 +989131798395 محمد ملکشاهی رعنا نظیفی\n",
      "inconsistent user data 382 +989355408007 مصطفی حسامی مصطفی حصامی\n"
     ]
    },
    {
     "name": "stderr",
     "output_type": "stream",
     "text": [
      " 21%|████████████▊                                               | 437/2048 [00:00<00:03, 458.41it/s]"
     ]
    },
    {
     "name": "stdout",
     "output_type": "stream",
     "text": [
      "inconsistent user data 393 +989121155875 علی اقدم محمد سبحانی\n"
     ]
    },
    {
     "name": "stderr",
     "output_type": "stream",
     "text": [
      " 28%|████████████████▌                                           | 566/2048 [00:01<00:04, 318.81it/s]"
     ]
    },
    {
     "name": "stdout",
     "output_type": "stream",
     "text": [
      "inconsistent user data 518 +989120555019 امیررضا فتحی محمودرضا فتحی\n",
      "inconsistent user data 529 +989339085993 محمد مهدی زاده سجاد مغانلو\n"
     ]
    },
    {
     "name": "stderr",
     "output_type": "stream",
     "text": [
      " 31%|██████████████████▌                                         | 634/2048 [00:01<00:04, 313.74it/s]"
     ]
    },
    {
     "name": "stdout",
     "output_type": "stream",
     "text": [
      "inconsistent user data 591 +989331991386 شایان شریفی امیررضا فتحی\n",
      "inconsistent user data 609 +989366205771 سعید عالم ورزنه اصفهانی سعید عالم\n",
      "inconsistent user data 616 +989122899010 علی شاهرخی علی کولیوند\n",
      "inconsistent user data 627 +989126220266 ایمان عدل خواه Iman Adlkhah\n"
     ]
    },
    {
     "name": "stderr",
     "output_type": "stream",
     "text": [
      " 39%|███████████████████████▎                                    | 794/2048 [00:01<00:02, 465.28it/s]"
     ]
    },
    {
     "name": "stdout",
     "output_type": "stream",
     "text": [
      "inconsistent user data 718 +989122712880 آی‌سان (نجمیه سادات) بنی‌هاشمی آی‌سان بنی‌هاشمی\n",
      "inconsistent user data 720 +989122274650 حمیدرضا حكاكی فرد حمید حکاکی\n",
      "inconsistent user data 831 +989123434998 نرگس علیزاده Niv Najjar Disfani\n",
      "inconsistent user data 833 +989366205771 سعید عالم ورزنه اصفهانی سعید عالم\n",
      "inconsistent user data 848 +989124943004 درسا جلایی درسا جلالی\n"
     ]
    },
    {
     "name": "stderr",
     "output_type": "stream",
     "text": [
      " 47%|████████████████████████████                                | 958/2048 [00:02<00:02, 500.74it/s]"
     ]
    },
    {
     "name": "stdout",
     "output_type": "stream",
     "text": [
      "inconsistent user data 862 +989122342515 سعید خدمتلو مریم خدمتلو\n",
      "inconsistent user data 869 +989125052440 هاشم کیانی ندا کیانی\n",
      "inconsistent user data 871 +989125052440 هاشم کیانی فاطمه کیانی\n",
      "inconsistent user data 909 +989151485244 حسام یوسفی حسام الدین یوسفی\n",
      "inconsistent user data 948 +989124369973 علی احمدی علی خان احمدی\n",
      "inconsistent user data 952 +989122899010 علی شاهرخی علی کولیوند\n",
      "inconsistent user data 956 +989121233837 علیرضا اسداله زاده علیرضا اسداله‌زاده\n"
     ]
    },
    {
     "name": "stderr",
     "output_type": "stream",
     "text": [
      " 55%|████████████████████████████████▍                          | 1126/2048 [00:02<00:01, 678.20it/s]"
     ]
    },
    {
     "name": "stdout",
     "output_type": "stream",
     "text": [
      "inconsistent user data 997 +989195373573 سید مححمدرضا نجفی محمدرضا رجبی\n",
      "inconsistent user data 1011 +989126819077 سید مهدی تقوی مهدی تقوی\n",
      "inconsistent user data 1015 +989122597327 مهدی نجار مهدی نجار دیسفانی\n",
      "inconsistent user data 1051 +989901963408 محسن باقری مهسا باقری\n",
      "inconsistent user data 1054 +989121233837 علیرضا اسداله زاده علیرضا اسدالله‌زاده\n",
      "inconsistent user data 1060 +989127224421 مجید کرمی مجید کریمی\n",
      "inconsistent user data 1080 +989143159445 آرش سروی آرمین سروی\n",
      "inconsistent user data 1085 +989195373573 سید مححمدرضا نجفی محمد رضا نجفی\n",
      "inconsistent user data 1087 +989126000338 مونیکا حضرت زاده مونیکا حضرت‌زاده\n",
      "inconsistent user data 1136 +989121233837 علیرضا اسداله زاده علیرضا اسدالله زاده\n",
      "inconsistent user data 1149 +989124112249 آرزو قانع آرزو قانع خشک بیجاری\n"
     ]
    },
    {
     "name": "stderr",
     "output_type": "stream",
     "text": [
      " 64%|█████████████████████████████████████▋                     | 1308/2048 [00:02<00:00, 798.68it/s]"
     ]
    },
    {
     "name": "stdout",
     "output_type": "stream",
     "text": [
      "inconsistent user data 1182 +989143159445 آرش سروی آرمین سروی\n",
      "inconsistent user data 1214 +989210829141 اشکان فراهانی فائزه دادخواهی اصل\n",
      "inconsistent user data 1249 +989127224421 مجید کرمی مجید کریمی\n",
      "inconsistent user data 1271 +989130256846 محمد یاسین پارسی محمدیاسین پارسی\n",
      "inconsistent user data 1309 +989122822695 علی اکبر سلطانلو علی اکبر سلطان لو\n",
      "inconsistent user data 1322 +989123370623 سمیه مرادلو آرش شیخی\n",
      "inconsistent user data 1329 +989224830197 سایه زارعی تودشکی سایه زارعی\n"
     ]
    },
    {
     "name": "stderr",
     "output_type": "stream",
     "text": [
      " 82%|███████████████████████████████████████████████▌          | 1679/2048 [00:02<00:00, 1099.42it/s]"
     ]
    },
    {
     "name": "stdout",
     "output_type": "stream",
     "text": [
      "inconsistent user data 1465 +989121386329 سیدمحمدرضا نجفی سید محمدرضا نجفی\n",
      "inconsistent user data 1480 +989121784378 مهدیار کوکب زاده مهدی یار کوکب زاده\n",
      "inconsistent user data 1489 +989010131603 سپیده زیادی پناه سپیده پناه\n",
      "inconsistent user data 1500 +989196208122 آرش کاظم تاش همسر آرش کاظم تاش\n",
      "inconsistent user data 1502 +989127192230 آرش خسرویان آرش خسرویان عرب\n",
      "inconsistent user data 1520 +989123798829 امیر عباس فتوت پریسا باقریان\n"
     ]
    },
    {
     "name": "stderr",
     "output_type": "stream",
     "text": [
      "100%|███████████████████████████████████████████████████████████| 2048/2048 [00:03<00:00, 656.27it/s]"
     ]
    },
    {
     "name": "stdout",
     "output_type": "stream",
     "text": [
      "inconsistent user data 1728 +989121070729 امین سمیع‌زاده امین سمیع زاده\n",
      "inconsistent user data 1733 +989157571200 امیرحسین غفوریان حسین غفوریان\n",
      "inconsistent user data 1741 +989125984866 مهدی طالبی شاهرخ طالبی\n",
      "inconsistent user data 1744 +989027223818 حسن کرمی علی ملک نسب\n",
      "inconsistent user data 1764 +989124922268 میلاد میرزازاده میلاد میرزا زاده\n"
     ]
    },
    {
     "name": "stderr",
     "output_type": "stream",
     "text": [
      "\n"
     ]
    }
   ],
   "source": [
    "from tqdm import tqdm\n",
    "\n",
    "\n",
    "def normalize_phone(phone):\n",
    "    phone = str(phone).strip()\n",
    "    if len(phone) == 11 and phone.startswith(\"09\"):\n",
    "        return \"+98\" + phone[1:]\n",
    "    return None\n",
    "\n",
    "\n",
    "# df['normalized_phone'] = df['fixed phone'].apply(normalize_phone)\n",
    "# good_phones = df['normalized_phone'].dropna().unique()\n",
    "\n",
    "good_phone = []\n",
    "bad_phone = []\n",
    "for phone in df[\"fixed phone\"]:\n",
    "    if len(str(phone).strip()) == 11 and str(phone).startswith(\"09\"):\n",
    "        good_phone.append(\"+989\" + phone[2:])\n",
    "    else:\n",
    "        bad_phone.append(phone)\n",
    "good_phone = list(set(good_phone))\n",
    "bad_phone = list(set(bad_phone))\n",
    "\n",
    "users_dic = {user.phone_number: user for user in User.objects.filter(phone_number__in=good_phone)}\n",
    "\n",
    "\n",
    "def get_gender(gender):\n",
    "    if gender in [\"M\", \"m\", \"مرد\"]:\n",
    "        return 1\n",
    "    elif gender in [\"F\", \"f\", \"زن\"]:\n",
    "        return 2\n",
    "    return None\n",
    "\n",
    "\n",
    "def convert_to_english(text):\n",
    "    to_english = {\n",
    "        \"۰\": \"0\",\n",
    "        \"۱\": \"1\",\n",
    "        \"۲\": \"2\",\n",
    "        \"۳\": \"3\",\n",
    "        \"۴\": \"4\",\n",
    "        \"۵\": \"5\",\n",
    "        \"۶\": \"6\",\n",
    "        \"۷\": \"7\",\n",
    "        \"۸\": \"8\",\n",
    "        \"۹\": \"9\",\n",
    "        \"٠\": \"0\",\n",
    "        \"١\": \"1\",\n",
    "        \"٢\": \"2\",\n",
    "        \"٣\": \"3\",\n",
    "        \"٤\": \"4\",\n",
    "        \"٥\": \"5\",\n",
    "        \"٦\": \"6\",\n",
    "        \"٧\": \"7\",\n",
    "        \"٨\": \"8\",\n",
    "        \"٩\": \"9\",\n",
    "    }\n",
    "    for digit, english_digit in to_english.items():\n",
    "        text = text.replace(digit, english_digit)\n",
    "    return text\n",
    "\n",
    "\n",
    "def get_national_id(national_id):\n",
    "    if not national_id:\n",
    "        return None\n",
    "    if len(str(national_id).strip()) == 8:\n",
    "        return \"00\" + convert_to_english(str(national_id)).strip()\n",
    "    return convert_to_english(str(national_id)).strip()\n",
    "\n",
    "\n",
    "def get_status(status):\n",
    "    if status in [\"انتقال به دوره های بعد\", \"انصراف قبل از دوره\", \"غایب\", \"انصراف پیش از دوره\"]:\n",
    "        return 2, 3\n",
    "    elif status in [\"انصراف روز اول\", \"انتخاب نماندن\"]:\n",
    "        return 3, 3\n",
    "    elif status in [\"انصراف روز اول - غایب\", \"ترک دوره\"]:\n",
    "        return 4, 3\n",
    "    elif status in [\"تیم اجرایی\"]:\n",
    "        return 7, 3\n",
    "    elif status in [\"مهمان\"]:\n",
    "        return 8, 3\n",
    "    elif status in [\"شرکت کننده\", \"حاضر در دوره\"]:\n",
    "        return 9, 3\n",
    "    elif status in [\"ثبت‌نام\", \"در انتظار پرداخت\"]:\n",
    "        return 1, 3\n",
    "    elif status in [\"حاضر در دوره - انتظار پرداخت\"]:\n",
    "        return 9, 2\n",
    "    elif status in [\"حاضر در دوره - عدم سررسید\"]:\n",
    "        return 9, 1\n",
    "    elif status in [\"حاضر در دوره - تسویه\"]:\n",
    "        return 9, 3\n",
    "    return 9, 3\n",
    "\n",
    "\n",
    "done_registrations = Registration.objects.filter(user__in=users_dic.values())\n",
    "registration_dic = {f\"{reg.user.id}-{reg.course.id}\": reg for reg in done_registrations}\n",
    "course_dic = {\n",
    "    f\"{course.course_type.name_fa}-{course.number}\": course\n",
    "    for course in Course.objects.select_related(\"course_type\").all()\n",
    "}\n",
    "\n",
    "for index, row in tqdm(df.iterrows(), total=df.shape[0]):\n",
    "    phone = normalize_phone(row[\"fixed phone\"])\n",
    "    first_name = str(row.get(\"نام\", \"\")).strip()\n",
    "    last_name = str(row.get(\"نام‌خانوادگی\", \"\")).strip()\n",
    "    if not phone:\n",
    "        continue\n",
    "    if phone in users_dic:\n",
    "        user = users_dic[phone]\n",
    "        if user.first_name != first_name or user.last_name != last_name:\n",
    "            print(\"inconsistent user data\", index, phone, user.full_name, first_name, last_name)\n",
    "            continue\n",
    "    else:\n",
    "        user = User.objects.create(\n",
    "            username=phone,\n",
    "            phone_number=phone,\n",
    "            first_name=first_name,\n",
    "            last_name=last_name,\n",
    "            telegram_id=row.get(\"تلگرام\", \"\"),\n",
    "            email=row.get(\"ایمیل\", \"\"),\n",
    "            profession=row.get(\"حرفه\", \"\"),\n",
    "            age=row.get(\"سن\", None),\n",
    "            gender=get_gender(row.get(\"جنسیت\", None)),\n",
    "            national_id=get_national_id(row.get(\"کد ملی\", \"\")),\n",
    "            english_first_name=row.get(\"Name\", \"\"),\n",
    "            english_last_name=row.get(\"Surname\", \"\"),\n",
    "            referer_name=row.get(\"معرف\", None),\n",
    "        )\n",
    "        users_dic[user.phone_number] = user\n",
    "    course_name = row[\"نام دوره\"]\n",
    "    course_number = int(row[\"شماره دوره\"])\n",
    "    course = course_dic.get(f\"{course_name}-{course_number}\", None)\n",
    "    if not course:\n",
    "        print(f\"Course not found: {course_name} - {course_number}\", index, phone)\n",
    "        continue\n",
    "    status, payment_status = get_status(row.get(\"وضعیت\", None))\n",
    "    tuition = row.get(\"مبلغ دوره\", 0)\n",
    "    if registration_dic.get(f\"{user.id}-{course.id}\", None) is not None:\n",
    "        continue\n",
    "    try:\n",
    "        Registration.objects.create(\n",
    "            user=user,\n",
    "            course=course,\n",
    "            status=status,\n",
    "            payment_status=payment_status,\n",
    "            tuition=tuition,\n",
    "        )\n",
    "        s\n",
    "    except:\n",
    "        print(\"Error\", phone, user.full_name, row.get(\"نام\"))"
   ]
  },
  {
   "cell_type": "code",
   "execution_count": 4,
   "id": "316cb91e",
   "metadata": {},
   "outputs": [
    {
     "ename": "DoesNotExist",
     "evalue": "User matching query does not exist.",
     "output_type": "error",
     "traceback": [
      "\u001b[31m---------------------------------------------------------------------------\u001b[39m",
      "\u001b[31mDoesNotExist\u001b[39m                              Traceback (most recent call last)",
      "\u001b[36mCell\u001b[39m\u001b[36m \u001b[39m\u001b[32mIn[4]\u001b[39m\u001b[32m, line 1\u001b[39m\n\u001b[32m----> \u001b[39m\u001b[32m1\u001b[39m \u001b[43mUser\u001b[49m\u001b[43m.\u001b[49m\u001b[43mobjects\u001b[49m\u001b[43m.\u001b[49m\u001b[43mget\u001b[49m\u001b[43m(\u001b[49m\u001b[43musername\u001b[49m\u001b[43m=\u001b[49m\u001b[33;43m\"\u001b[39;49m\u001b[33;43musertest1\u001b[39;49m\u001b[33;43m\"\u001b[39;49m\u001b[43m)\u001b[49m\n",
      "\u001b[36mFile \u001b[39m\u001b[32m~/.pyenv/versions/3.11.9/envs/nimac/lib/python3.11/site-packages/django/db/models/manager.py:87\u001b[39m, in \u001b[36mBaseManager._get_queryset_methods.<locals>.create_method.<locals>.manager_method\u001b[39m\u001b[34m(self, *args, **kwargs)\u001b[39m\n\u001b[32m     85\u001b[39m \u001b[38;5;129m@wraps\u001b[39m(method)\n\u001b[32m     86\u001b[39m \u001b[38;5;28;01mdef\u001b[39;00m\u001b[38;5;250m \u001b[39m\u001b[34mmanager_method\u001b[39m(\u001b[38;5;28mself\u001b[39m, *args, **kwargs):\n\u001b[32m---> \u001b[39m\u001b[32m87\u001b[39m     \u001b[38;5;28;01mreturn\u001b[39;00m \u001b[38;5;28;43mgetattr\u001b[39;49m\u001b[43m(\u001b[49m\u001b[38;5;28;43mself\u001b[39;49m\u001b[43m.\u001b[49m\u001b[43mget_queryset\u001b[49m\u001b[43m(\u001b[49m\u001b[43m)\u001b[49m\u001b[43m,\u001b[49m\u001b[43m \u001b[49m\u001b[43mname\u001b[49m\u001b[43m)\u001b[49m\u001b[43m(\u001b[49m\u001b[43m*\u001b[49m\u001b[43margs\u001b[49m\u001b[43m,\u001b[49m\u001b[43m \u001b[49m\u001b[43m*\u001b[49m\u001b[43m*\u001b[49m\u001b[43mkwargs\u001b[49m\u001b[43m)\u001b[49m\n",
      "\u001b[36mFile \u001b[39m\u001b[32m~/.pyenv/versions/3.11.9/envs/nimac/lib/python3.11/site-packages/django/db/models/query.py:633\u001b[39m, in \u001b[36mQuerySet.get\u001b[39m\u001b[34m(self, *args, **kwargs)\u001b[39m\n\u001b[32m    631\u001b[39m     \u001b[38;5;28;01mreturn\u001b[39;00m clone._result_cache[\u001b[32m0\u001b[39m]\n\u001b[32m    632\u001b[39m \u001b[38;5;28;01mif\u001b[39;00m \u001b[38;5;129;01mnot\u001b[39;00m num:\n\u001b[32m--> \u001b[39m\u001b[32m633\u001b[39m     \u001b[38;5;28;01mraise\u001b[39;00m \u001b[38;5;28mself\u001b[39m.model.DoesNotExist(\n\u001b[32m    634\u001b[39m         \u001b[33m\"\u001b[39m\u001b[38;5;132;01m%s\u001b[39;00m\u001b[33m matching query does not exist.\u001b[39m\u001b[33m\"\u001b[39m % \u001b[38;5;28mself\u001b[39m.model._meta.object_name\n\u001b[32m    635\u001b[39m     )\n\u001b[32m    636\u001b[39m \u001b[38;5;28;01mraise\u001b[39;00m \u001b[38;5;28mself\u001b[39m.model.MultipleObjectsReturned(\n\u001b[32m    637\u001b[39m     \u001b[33m\"\u001b[39m\u001b[33mget() returned more than one \u001b[39m\u001b[38;5;132;01m%s\u001b[39;00m\u001b[33m -- it returned \u001b[39m\u001b[38;5;132;01m%s\u001b[39;00m\u001b[33m!\u001b[39m\u001b[33m\"\u001b[39m\n\u001b[32m    638\u001b[39m     % (\n\u001b[32m   (...)\u001b[39m\u001b[32m    641\u001b[39m     )\n\u001b[32m    642\u001b[39m )\n",
      "\u001b[31mDoesNotExist\u001b[39m: User matching query does not exist."
     ]
    }
   ],
   "source": [
    "User.objects.get(username=\"usertest1\")"
   ]
  }
 ],
 "metadata": {
  "kernelspec": {
   "display_name": "Django Shell-Plus",
   "language": "python",
   "name": "django_extensions"
  },
  "language_info": {
   "codemirror_mode": {
    "name": "ipython",
    "version": 3
   },
   "file_extension": ".py",
   "mimetype": "text/x-python",
   "name": "python",
   "nbconvert_exporter": "python",
   "pygments_lexer": "ipython3",
   "version": "3.11.9"
  }
 },
 "nbformat": 4,
 "nbformat_minor": 5
}
